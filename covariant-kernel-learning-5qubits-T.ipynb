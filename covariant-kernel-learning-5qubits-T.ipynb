{
 "cells": [
  {
   "cell_type": "code",
   "execution_count": 1,
   "metadata": {},
   "outputs": [],
   "source": [
    "from qulacs import QuantumState,QuantumCircuit\n",
    "from qulacs import ParametricQuantumCircuit\n",
    "from qulacs.gate import RY,CZ,merge\n",
    "from qulacs.state import inner_product\n",
    "import numpy as np \n",
    "import random\n",
    "\n",
    "import matplotlib.pyplot as plt"
   ]
  },
  {
   "attachments": {
    "image.png": {
     "image/png": "[encoded data removed]"
    }
   },
   "cell_type": "markdown",
   "metadata": {},
   "source": [
    "### Prepare training/test data\n",
    "\n",
    "![image.png](attachment:image.png)"
   ]
  },
  {
   "cell_type": "markdown",
   "metadata": {},
   "source": [
    "copied from Noro-san's code"
   ]
  },
  {
   "cell_type": "code",
   "execution_count": 2,
   "metadata": {},
   "outputs": [],
   "source": [
    "class Dataset_generator():\n",
    "    def __init__(self,n_qubits,epsilon,generator) -> None:\n",
    "        self.n_qubits = n_qubits\n",
    "        self.epsilon = epsilon \n",
    "        self.generator = generator\n",
    "    \n",
    "    def x_generator(self,c,select_bin_i):\n",
    "        SS = np.copy(self.generator)\n",
    "    \n",
    "        #select = np.random.randint(0,2,n_qubits) # i番目の生成元を使う(1)か使わない(0)かを決める行列\n",
    "        se = np.zeros(self.n_qubits)\n",
    "        for j in range(self.n_qubits):\n",
    "            se[j] = int(select_bin_i[j])\n",
    "            \n",
    "        for i in range(self.n_qubits):\n",
    "            SS[i] = SS[i] * se[i]\n",
    "        op = np.sum(SS, axis=0) # それぞれのビットにそれぞれのゲート(X, Z)が何回掛かるかを示す行列\n",
    "\n",
    "        # \\theta_{+-}を計算する\n",
    "        theta = np.zeros(2*self.n_qubits)\n",
    "\n",
    "        for i in range(self.n_qubits):\n",
    "            theta[2*i] = c[2*i] + np.pi/2 * op[2*i]\n",
    "            theta[2*i+1] = (-1)**op[2*i] * c[2*i+1] + np.pi/2 * op[2*i+1]\n",
    "\n",
    "        for i in range(2*self.n_qubits): # 0～\\piの値にする\n",
    "            theta[i] = theta[i] % np.pi\n",
    "        \n",
    "        return theta\n",
    "\n",
    "    def generate(self,n_data_train):\n",
    "        l = [i for i in range(2**self.n_qubits)] # 0 = 2**n_qubits-1 のリスト\n",
    "        select = random.sample(l, n_data_train)\n",
    "        select_bin = [format(select[i], f'0{self.n_qubits}b') for i in range(n_data_train)]\n",
    "\n",
    "        # c_{+-}を決める\n",
    "        c_plus = np.pi/2 * np.random.rand(2*self.n_qubits) - np.pi/4 # - \\pi/4 ～ \\pi/4 のランダムな数\n",
    "        c_minus = np.pi/2 * np.random.rand(2*self.n_qubits) - np.pi/4\n",
    "\n",
    "        x_plus = []\n",
    "        x_minus = []\n",
    "\n",
    "        for i in range(n_data_train):\n",
    "            xx = self.x_generator(c_plus, select_bin[i]).reshape((1,-1))\n",
    "            e = np.random.normal(0, np.sqrt(epsilon), (1, 2*n_qubits))\n",
    "            x_plus.append(xx + e)\n",
    "            xx = self.x_generator(c_minus, select_bin[i]).reshape((1,-1))\n",
    "            e = np.random.normal(0, np.sqrt(epsilon), (1, 2*n_qubits))\n",
    "            x_minus.append(xx + e)\n",
    "        x_plus = np.concatenate(x_plus)\n",
    "        x_minus = np.concatenate(x_minus)\n",
    "        x_train = np.concatenate([x_plus,x_minus])\n",
    "        y_plus = np.ones(n_data_train)\n",
    "        y_minus = -np.ones(n_data_train)\n",
    "        y_train = np.concatenate([y_plus, y_minus]).reshape(1,-1)\n",
    "        y_train = y_train.T\n",
    "\n",
    "        return x_train, y_train\n",
    "        "
   ]
  },
  {
   "cell_type": "code",
   "execution_count": 3,
   "metadata": {},
   "outputs": [],
   "source": [
    "n_qubits = 5\n",
    "\n",
    "# 用いるスタビライザー群の要素を決定する\n",
    "# 生成元 XZIII, ZXZZI, IZXII, IZIXZ, IIIZX\n",
    "S = np.zeros((n_qubits, 2*n_qubits))\n",
    "S[0] = np.array([1,0, 0,1, 0,0, 0,0, 0,0]) # XZIII (X->1,0 Z->0,1 I->0,0としてならべる)\n",
    "S[1] = np.array([0,1, 1,0, 0,1, 0,1, 0,0]) # ZXZZI\n",
    "S[2] = np.array([0,0, 0,1, 1,0, 0,0, 0,0]) # IZXII\n",
    "S[3] = np.array([0,0, 0,1, 0,0, 1,0, 0,1]) # IZIXZ\n",
    "S[4] = np.array([0,0, 0,0, 0,0, 0,1, 1,0]) # IIIZX\n",
    "\n",
    "n_data_train = 20\n",
    "epsilon = 0.01 # エラーの分散"
   ]
  },
  {
   "cell_type": "code",
   "execution_count": 4,
   "metadata": {},
   "outputs": [],
   "source": [
    "generator = Dataset_generator(n_qubits,epsilon,S)\n",
    "x_train,y_train = generator.generate(n_data_train)"
   ]
  },
  {
   "cell_type": "code",
   "execution_count": 5,
   "metadata": {},
   "outputs": [
    {
     "data": {
      "text/plain": [
       "array([[ 2.9004084 ,  2.40124576,  1.09476785,  1.62668072,  1.07845455,\n",
       "         2.25866059,  2.82885899,  0.92177575,  2.31294768,  2.9477733 ],\n",
       "       [ 1.45608893,  0.74841283,  0.92172312,  0.11434839,  2.60000596,\n",
       "         0.70908046,  1.46968552,  0.59542865,  0.93745983,  1.73247001],\n",
       "       [ 1.30743451,  2.50455752,  2.60292562,  2.9843472 ,  2.80634357,\n",
       "         2.3239754 ,  1.43683133,  0.56569968,  2.50843115,  1.44535701],\n",
       "       [ 1.35947491,  0.89279624,  0.88397969,  0.13860563,  1.19764757,\n",
       "         2.45194405,  2.93923341,  2.51856293,  0.93226887,  0.25687868],\n",
       "       [ 3.1804058 ,  0.67263146,  2.54656369,  1.53670516,  1.05557851,\n",
       "         0.53783643,  2.75240536,  1.10505076,  0.84658721,  0.16336217],\n",
       "       [ 1.20538414,  0.81122262,  0.99534362,  0.05221048,  1.11290938,\n",
       "         2.40613188,  2.85687788,  0.99464766,  2.59693784,  2.8933833 ],\n",
       "       [ 3.13635748,  0.78352219,  2.48891583,  3.13668649,  1.28211385,\n",
       "         0.60830651,  1.15555478,  2.16150854,  0.90894879,  1.79340044],\n",
       "       [ 1.2993773 ,  2.30653101,  2.4816197 ,  3.03516481,  1.15336606,\n",
       "         0.71719226,  3.04740319,  2.61365047,  2.38061338,  2.83712742],\n",
       "       [ 1.31184236,  0.66095426,  0.81608333,  1.76732708,  1.10288923,\n",
       "         2.24006738,  1.44370564,  2.22642783,  2.48214755,  1.30873599],\n",
       "       [ 1.3250892 ,  2.40568856,  2.47058363,  1.5421568 ,  2.78591683,\n",
       "         2.57325937,  2.89270715,  1.10460219,  0.96620583,  0.05842567],\n",
       "       [ 2.77942301,  2.17880138,  1.05578038,  0.11893907,  1.31552524,\n",
       "         2.38850205,  1.36670566,  2.06000934,  2.48050241,  1.30998119],\n",
       "       [ 1.38593387,  0.72735134,  0.91266925,  1.64602931,  2.6717665 ,\n",
       "         0.82771867,  2.92321171,  1.04321041,  2.54339731,  2.98802073],\n",
       "       [ 1.43537081,  0.92686421,  0.97303946,  1.57388189,  1.09860595,\n",
       "         2.42072379,  1.20388456,  0.67445277,  0.89584941,  1.85560898],\n",
       "       [ 1.362081  ,  2.51034032,  2.47167607,  3.04400365,  1.12997504,\n",
       "         0.78230601,  2.94195191,  1.05300643,  0.83978351,  0.29939827],\n",
       "       [ 1.33557533,  2.57108254,  2.4635153 ,  1.49940243,  1.0568973 ,\n",
       "         0.84375752,  1.25738006,  0.53616528,  2.4521083 ,  1.4280883 ],\n",
       "       [ 2.96496163,  2.20917548,  1.09716651,  0.0890007 ,  2.56272184,\n",
       "         0.8474923 ,  2.77572422,  1.124963  ,  2.4305663 ,  3.03410385],\n",
       "       [ 2.93096038,  0.81553209,  2.71316898,  2.89402242,  2.69563706,\n",
       "         2.27698111,  2.97173339,  2.40547505,  2.35520402,  2.91375757],\n",
       "       [ 2.92391262,  0.69110109,  2.50061505,  1.51559223,  1.21354782,\n",
       "         0.77802004,  2.9384646 ,  2.57665738,  2.58331322,  3.02929571],\n",
       "       [ 2.83317668,  0.79634099,  2.62100383,  1.41294254,  2.79247172,\n",
       "         2.3496851 ,  1.5668908 ,  2.22370334,  0.84086214,  1.7029997 ],\n",
       "       [ 3.03885732,  2.39540873,  0.90302238,  1.73183597,  2.65581159,\n",
       "         0.79683429,  1.40227723,  0.57796084,  0.77169623,  1.7755601 ],\n",
       "       [ 2.31772377,  1.39876466,  1.18814102,  0.95267351,  1.42365193,\n",
       "         1.37259851,  0.23729329,  0.97796107,  0.6535973 ,  2.75409273],\n",
       "       [ 0.78150966,  1.9176099 ,  1.26443299,  2.53651459,  2.90868431,\n",
       "         1.62827272,  1.71608695,  0.62357048,  2.3561612 ,  1.84473365],\n",
       "       [ 0.8536624 ,  0.24315897,  2.76753364,  0.59793057,  3.09160485,\n",
       "         0.14026895,  1.79147623,  0.90890604,  0.90056807,  1.44496799],\n",
       "       [ 0.82441056,  1.71256054,  1.24109331,  2.54032863,  1.24454882,\n",
       "         1.47116577,  0.25027068,  2.43240823,  2.30376267, -0.03203296],\n",
       "       [ 2.40297171,  2.80100459,  2.79185961,  1.897046  ,  1.447912  ,\n",
       "         3.0121008 ,  0.06432423,  0.77240364,  2.31670223, -0.00629696],\n",
       "       [ 0.70295487,  1.7064919 ,  1.27407308,  2.64880475,  1.59152375,\n",
       "         1.47410065,  0.24238599,  0.77984195,  0.46870952,  3.03021024],\n",
       "       [ 2.67832667,  2.97237878,  2.73073101,  0.42410309,  1.32847228,\n",
       "         3.06437545,  1.77385968,  2.10486058,  2.45487964,  1.79095731],\n",
       "       [ 0.78553072,  0.17295016,  2.78763192,  0.47209631,  1.43197306,\n",
       "         3.09089933,  0.20838634,  2.60565921,  0.69735942,  2.9913023 ],\n",
       "       [ 0.92959145,  1.87569447,  1.37600704,  1.01112754,  1.54546403,\n",
       "         1.63201958,  1.67875969,  2.30024295,  0.54106872,  1.54904008],\n",
       "       [ 0.71420366,  0.18008559,  2.82976787,  2.01660756,  2.77846369,\n",
       "         0.22566918,  0.1795559 ,  0.88006042,  2.48355622,  0.21401004],\n",
       "       [ 2.55235043,  1.38263806,  1.18461795,  2.68859631,  1.41605671,\n",
       "         1.43257715,  1.8357331 ,  2.31890901,  0.6310035 ,  1.44733387],\n",
       "       [ 0.89115929,  1.71862353,  1.30016588,  1.08318565,  2.89925972,\n",
       "         1.76113731,  0.12620747,  1.07164224,  0.86294862,  3.01124287],\n",
       "       [ 0.77167624,  1.6817852 ,  1.11502134,  0.97849177,  1.40176884,\n",
       "         1.52806593,  1.95534271,  0.70143641,  2.38261205,  1.78353413],\n",
       "       [ 1.06332156,  0.19416775,  2.82258862,  0.41338405,  1.42854469,\n",
       "         3.18752549,  0.24785784,  0.84449068,  2.13107419,  0.2076148 ],\n",
       "       [ 0.73139778,  0.1543207 ,  2.81261636,  2.23625152,  1.46588114,\n",
       "         3.07173462,  1.93981858,  0.53031377,  0.66085701,  1.57916487],\n",
       "       [ 2.42119648,  1.23597397,  1.06790373,  2.54188426,  2.96666526,\n",
       "         1.74155342,  0.46254481,  0.96597913,  0.83661566,  2.9100975 ],\n",
       "       [ 2.26292152,  2.95107995,  2.59970025,  0.54654578,  3.039204  ,\n",
       "         0.10754838,  0.1904144 ,  2.352662  ,  0.83477722,  2.96838565],\n",
       "       [ 2.1579419 ,  3.09680168,  2.59163246,  2.14153748,  1.41790102,\n",
       "         3.2177665 ,  0.17452941,  2.4397887 ,  0.86157349,  2.93600236],\n",
       "       [ 2.41748182,  2.85817894,  2.81324137,  2.04614373,  3.08982306,\n",
       "         0.05385748,  1.72782928,  2.02446219,  2.25569068,  1.68545328],\n",
       "       [ 2.22706367,  1.28906042,  1.10990004,  1.18957779,  2.83553545,\n",
       "         1.66844832,  1.81171836,  0.67345301,  2.33108018,  1.85137434]])"
      ]
     },
     "execution_count": 5,
     "metadata": {},
     "output_type": "execute_result"
    }
   ],
   "source": [
    "x_train"
   ]
  },
  {
   "cell_type": "markdown",
   "metadata": {},
   "source": [
    "### Create helper function to get fiducial states, kernel matrix"
   ]
  },
  {
   "cell_type": "code",
   "execution_count": 6,
   "metadata": {},
   "outputs": [],
   "source": [
    "from cvxopt import matrix, solvers\n",
    "def cvxopt_solver(Kernel,y,C):\n",
    "    \n",
    "    P = matrix(np.outer(y,y) * Kernel )\n",
    "    q = matrix(- np.ones(y.shape[0]))\n",
    "    n = Kernel.shape[0] \n",
    "\n",
    "    G = matrix(np.vstack(( - np.eye(n), np.eye(n)  ))) \n",
    "    h = matrix(np.vstack((np.zeros((n, 1)), np.full((n, 1),C) )))\n",
    "    A = matrix(y, (1,n))\n",
    "    b = matrix(np.zeros(1), (1, 1))\n",
    "\n",
    "    solvers.options[\"maxiters\"] = 10000\n",
    "    solvers.options[\"show_progress\"] = False\n",
    "\n",
    "    sol = solvers.qp(P,q,G,h,A,b)\n",
    "    return sol "
   ]
  },
  {
   "cell_type": "code",
   "execution_count": 7,
   "metadata": {},
   "outputs": [],
   "source": [
    "from sklearn.metrics import accuracy_score"
   ]
  },
  {
   "cell_type": "code",
   "execution_count": 8,
   "metadata": {},
   "outputs": [],
   "source": [
    "class CovariantKernel:\n",
    "\n",
    "    def __init__(self,n_qubits,edges) -> None:\n",
    "        self.n_qubits = n_qubits\n",
    "        self.edges = edges\n",
    "\n",
    "    def create_featured_gate(self,Lambda,x):\n",
    "        circuit = ParametricQuantumCircuit(self.n_qubits)\n",
    "        for i in range(self.n_qubits):\n",
    "            circuit.add_parametric_RY_gate(i,-Lambda[i])\n",
    "        for control, target  in self.edges:\n",
    "            circuit.add_CZ_gate(control,target)\n",
    "\n",
    "        for i in range(self.n_qubits):\n",
    "            circuit.add_RZ_gate(i,x[2*i])\n",
    "            circuit.add_RX_gate(i,x[2*i+1])\n",
    "\n",
    "        return circuit\n",
    "\n",
    "\n",
    "    def get_kernel_value(self,x1,x2,Lambda):\n",
    "\n",
    "        state1 = QuantumState(self.n_qubits)\n",
    "        state2 = QuantumState(self.n_qubits)\n",
    "        state1.set_zero_state()\n",
    "        state1.set_zero_state()\n",
    "\n",
    "        circuit1 = self.create_featured_gate(Lambda,x1)\n",
    "        circuit2 = self.create_featured_gate(Lambda,x2)\n",
    "\n",
    "        circuit1.update_quantum_state(state1)\n",
    "        circuit2.update_quantum_state(state2)\n",
    "\n",
    "        return abs(inner_product(state1,state2))**2\n",
    "    \n",
    "    def construct_kernel_matrix(self,Lambda,x):\n",
    "\n",
    "        kernel_matrix = np.identity(x.shape[0])\n",
    "        for i in range(x.shape[0]):\n",
    "            for j in range(i):\n",
    "                if i != j:\n",
    "                    kernel_matrix[i,j] = self.get_kernel_value(x[i],x[j],Lambda)\n",
    "                    kernel_matrix[j,i] = kernel_matrix[i,j]\n",
    "        \n",
    "        return kernel_matrix\n",
    "\n",
    "    def predict(self,y_train, x_train,x_test,alpha=None,Lambda=None):\n",
    "        if alpha is None:\n",
    "            alpha = self.alpha_history[-1]\n",
    "        if Lambda is None:\n",
    "            Lambda = self.lam_history[-1]\n",
    "        \n",
    "        y_pred = []\n",
    "        lam_vector = np.full(self.n_qubits, Lambda)\n",
    "\n",
    "        for j in range(len(x_test)):\n",
    "            kernel_value = np.array([self.get_kernel_value(x_train[i],x_test[j],lam_vector) for i in range(len(x_train))]).reshape(-1,1)\n",
    "            threshold = np.sign(np.sum(y_train*alpha*kernel_value))\n",
    "            y_pred.append(threshold)\n",
    "        return y_pred\n",
    "\n",
    "\n",
    "                \n",
    "\n",
    "    def fit(self,x_train,y_train,lam0=0.1,C=1,P=20,c=0.1,gamma=0.101,a=0.05,A=1,sigma=0.602):\n",
    "        \n",
    "        self.lam_history = []\n",
    "        self.F_history = []\n",
    "        self.K_history = []\n",
    "        self.alpha_history = []\n",
    "        self.acc_history = []\n",
    "\n",
    "        np.random.seed(1111)\n",
    "        lam = np.full(n_qubits, lam0)\n",
    "        for i in range(P):\n",
    "\n",
    "            c_i =  c / (i + 1)** gamma\n",
    "            a_i = a / ( i + 1 + A)** sigma\n",
    "\n",
    "            Delta = 2*np.random.randint(0, 2, 1) - 1 \n",
    "            lam_plus = lam + c_i * Delta\n",
    "            lam_minus = lam - c_i * Delta\n",
    "\n",
    "            K = self.construct_kernel_matrix(lam, x_train)\n",
    "            K_plus = self.construct_kernel_matrix(lam_plus, x_train)\n",
    "            K_minus = self.construct_kernel_matrix(lam_minus, x_train)\n",
    "\n",
    "            sol = cvxopt_solver(K,y_train,C)\n",
    "            sol_plus = cvxopt_solver(K_plus,y_train,C)\n",
    "            sol_minus = cvxopt_solver(K_minus,y_train,C)\n",
    "            alpha_plus = np.array(sol_plus['x']).reshape(-1)\n",
    "            alpha_minus = np.array(sol_minus['x']).reshape(-1)\n",
    "            alpha = sol['x']\n",
    "\n",
    "            F_plus = - sol_plus['primal objective']\n",
    "            F_minus = - sol_minus['primal objective']\n",
    "            F = - sol['primal objective']\n",
    "            y_pred = self.predict(y_train,x_train,x_train,alpha,lam)\n",
    "            acc_score = accuracy_score(y_train,y_pred)\n",
    "\n",
    "            lam = lam - (F_plus - F_minus)* Delta* a_i / (2 *c_i)\n",
    "            self.lam_history.append(lam[0])\n",
    "            self.F_history.append(F)\n",
    "            self.K_history.append(K)\n",
    "            self.alpha_history.append(alpha)\n",
    "            self.acc_history.append(acc_score)\n",
    "            \n",
    "        \n",
    "\n",
    "        "
   ]
  },
  {
   "cell_type": "code",
   "execution_count": 9,
   "metadata": {},
   "outputs": [],
   "source": [
    "edges= [[0,1],[1,2],[1,3],[3,4]]"
   ]
  },
  {
   "cell_type": "code",
   "execution_count": 10,
   "metadata": {},
   "outputs": [],
   "source": [
    "kernel = CovariantKernel(n_qubits,edges)\n",
    "kernel.fit(x_train,y_train)"
   ]
  },
  {
   "cell_type": "code",
   "execution_count": 11,
   "metadata": {},
   "outputs": [
    {
     "data": {
      "text/plain": [
       "[0.1922798442270371,\n",
       " 0.34260448330375215,\n",
       " 0.5321121471520116,\n",
       " 0.702284960302656,\n",
       " 0.8262367563056539,\n",
       " 0.9079320957997349,\n",
       " 0.9623151056800111,\n",
       " 0.9994912693305008,\n",
       " 1.0255525925475195,\n",
       " 1.0442984073286317,\n",
       " 1.0581117925764407,\n",
       " 1.0685096214721517,\n",
       " 1.076482248787317,\n",
       " 1.082693348441786,\n",
       " 1.0875990901912704,\n",
       " 1.0915203918084904,\n",
       " 1.094687770075038,\n",
       " 1.0972698956164957,\n",
       " 1.0993922248465842,\n",
       " 1.1011494414742906]"
      ]
     },
     "execution_count": 11,
     "metadata": {},
     "output_type": "execute_result"
    }
   ],
   "source": [
    "kernel.lam_history"
   ]
  },
  {
   "cell_type": "code",
   "execution_count": 12,
   "metadata": {},
   "outputs": [],
   "source": [
    "acc_scores = np.array(kernel.acc_history)"
   ]
  },
  {
   "cell_type": "code",
   "execution_count": 13,
   "metadata": {},
   "outputs": [
    {
     "data": {
      "text/plain": [
       "array([0.85 , 0.875, 0.925, 0.925, 0.925, 0.9  , 0.9  , 0.9  , 0.9  ,\n",
       "       0.925, 0.925, 0.925, 0.925, 0.925, 0.925, 0.925, 0.925, 0.925,\n",
       "       0.925, 0.925])"
      ]
     },
     "execution_count": 13,
     "metadata": {},
     "output_type": "execute_result"
    }
   ],
   "source": [
    "acc_scores"
   ]
  },
  {
   "cell_type": "code",
   "execution_count": 14,
   "metadata": {},
   "outputs": [
    {
     "data": {
      "text/plain": [
       "[<matplotlib.lines.Line2D at 0x7f01125b1a10>]"
      ]
     },
     "execution_count": 14,
     "metadata": {},
     "output_type": "execute_result"
    },
    {
     "data": {
      "image/png": "[encoded data removed]",
      "text/plain": [
       "<Figure size 432x288 with 1 Axes>"
      ]
     },
     "metadata": {
      "needs_background": "light"
     },
     "output_type": "display_data"
    }
   ],
   "source": [
    "x = np.arange(0,20,1)\n",
    "plt.plot(x,acc_scores)"
   ]
  }
 ],
 "metadata": {
  "interpreter": {
   "hash": "4d6cf19fbe203395831accd42fb3bdc3b710eb7fbe04f788a536db11ba6ce36d"
  },
  "kernelspec": {
   "display_name": "Python 3 (ipykernel)",
   "language": "python",
   "name": "python3"
  },
  "language_info": {
   "codemirror_mode": {
    "name": "ipython",
    "version": 3
   },
   "file_extension": ".py",
   "mimetype": "text/x-python",
   "name": "python",
   "nbconvert_exporter": "python",
   "pygments_lexer": "ipython3",
   "version": "3.7.9"
  }
 },
 "nbformat": 4,
 "nbformat_minor": 2
}
