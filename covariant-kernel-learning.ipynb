{
 "cells": [
  {
   "cell_type": "code",
   "execution_count": 1,
   "metadata": {},
   "outputs": [],
   "source": [
    "from qulacs import QuantumState,QuantumCircuit\n",
    "from qulacs import ParametricQuantumCircuit\n",
    "from qulacs.gate import RY,CZ,merge\n",
    "from qulacs.state import inner_product\n",
    "import numpy as np \n",
    "\n",
    "import matplotlib.pyplot as plt"
   ]
  },
  {
   "cell_type": "markdown",
   "metadata": {},
   "source": [
    "### Prepare training/test data"
   ]
  },
  {
   "cell_type": "markdown",
   "metadata": {},
   "source": [
    "copied from Noro-san's code"
   ]
  },
  {
   "cell_type": "code",
   "execution_count": 2,
   "metadata": {},
   "outputs": [],
   "source": [
    "n_qubits = 5\n",
    "\n",
    "# 用いるスタビライザー群の要素を決定する\n",
    "S = np.zeros((n_qubits, 2*n_qubits))\n",
    "S[0] = np.array([1,0, 0,1, 0,0, 0,0, 0,0]) # XZIII (X->1,0 Z->0,1 I->0,0としてならべる)\n",
    "S[1] = np.array([0,1, 1,0, 0,1, 0,1, 0,0]) # ZXZZI\n",
    "S[2] = np.array([0,0, 0,1, 1,0, 0,0, 0,0]) # IZXII\n",
    "S[3] = np.array([0,0, 0,1, 0,0, 1,0, 0,1]) # IZIXZ\n",
    "S[4] = np.array([0,0, 0,0, 0,0, 0,1, 1,0]) # IIIZX\n",
    "\n",
    "def x_generator(c):\n",
    "    SS = np.copy(S)\n",
    "\n",
    "    select = np.random.randint(0,2,n_qubits) # i番目の生成元を使う(1)か使わない(0)かを決める行列\n",
    "    for i in range(n_qubits):\n",
    "        SS[i] = SS[i] * select[i]\n",
    "    op = np.sum(SS, axis=0) # それぞれのビットにそれぞれのゲート(X, Z)が何回掛かるかを示す行列\n",
    "\n",
    "    # \\theta_{+-}を計算する\n",
    "    theta = np.zeros(2*n_qubits)\n",
    "\n",
    "    for i in range(n_qubits):\n",
    "        theta[2*i] = c[2*i] + np.pi/2 * op[2*i]\n",
    "        theta[2*i+1] = (-1)**op[2*i] * c[2*i+1] + np.pi/2 * op[2*i+1]\n",
    "\n",
    "    for i in range(2*n_qubits): # 0～\\piの値にする\n",
    "        theta[i] = theta[i] % np.pi\n",
    "    \n",
    "    return theta"
   ]
  },
  {
   "cell_type": "code",
   "execution_count": 3,
   "metadata": {},
   "outputs": [
    {
     "name": "stdout",
     "output_type": "stream",
     "text": [
      "[[2.63200224 2.88585955 0.37471337 1.5223021  2.26762843 0.59720556\n",
      "  0.17908289 2.09232728 1.32011246 0.03208981]\n",
      " [1.06120592 0.25573311 0.37471337 3.09309843 0.69683211 2.54438709\n",
      "  1.74987922 2.6200617  2.89090878 1.53870652]\n",
      " [2.63200224 1.31506322 1.9455097  0.04849422 0.69683211 0.97359076\n",
      "  0.17908289 2.09232728 2.89090878 3.10950284]\n",
      " [2.63200224 2.88585955 0.37471337 1.5223021  2.26762843 0.59720556\n",
      "  0.17908289 2.09232728 1.32011246 0.03208981]\n",
      " [2.63200224 2.88585955 0.37471337 3.09309843 2.26762843 0.59720556\n",
      "  1.74987922 2.6200617  2.89090878 1.53870652]\n",
      " [2.63200224 2.88585955 0.37471337 1.5223021  0.69683211 2.54438709\n",
      "  1.74987922 2.6200617  2.89090878 1.53870652]\n",
      " [2.63200224 1.31506322 1.9455097  0.04849422 0.69683211 0.97359076\n",
      "  0.17908289 2.09232728 2.89090878 3.10950284]\n",
      " [2.63200224 1.31506322 1.9455097  1.61929055 0.69683211 0.97359076\n",
      "  1.74987922 1.04926537 2.89090878 1.53870652]\n",
      " [2.63200224 1.31506322 1.9455097  0.04849422 2.26762843 2.16800189\n",
      "  1.74987922 2.6200617  1.32011246 1.60288614]\n",
      " [2.63200224 1.31506322 1.9455097  0.04849422 2.26762843 2.16800189\n",
      "  1.74987922 2.6200617  1.32011246 1.60288614]\n",
      " [2.63200224 2.88585955 0.37471337 1.5223021  2.26762843 0.59720556\n",
      "  0.17908289 0.52153095 2.89090878 3.10950284]\n",
      " [2.63200224 2.88585955 0.37471337 1.5223021  2.26762843 0.59720556\n",
      "  0.17908289 2.09232728 1.32011246 0.03208981]\n",
      " [1.06120592 0.25573311 0.37471337 3.09309843 0.69683211 2.54438709\n",
      "  1.74987922 2.6200617  2.89090878 1.53870652]\n",
      " [2.63200224 2.88585955 0.37471337 1.5223021  2.26762843 0.59720556\n",
      "  0.17908289 0.52153095 2.89090878 3.10950284]\n",
      " [1.06120592 1.82652943 1.9455097  1.61929055 2.26762843 2.16800189\n",
      "  1.74987922 1.04926537 2.89090878 1.53870652]\n",
      " [2.63200224 1.31506322 1.9455097  0.04849422 2.26762843 2.16800189\n",
      "  1.74987922 1.04926537 2.89090878 1.53870652]\n",
      " [1.06120592 1.82652943 1.9455097  0.04849422 0.69683211 0.97359076\n",
      "  1.74987922 2.6200617  1.32011246 1.60288614]\n",
      " [1.06120592 0.25573311 0.37471337 1.5223021  0.69683211 2.54438709\n",
      "  0.17908289 0.52153095 2.89090878 3.10950284]\n",
      " [1.06120592 0.25573311 0.37471337 1.5223021  2.26762843 0.59720556\n",
      "  1.74987922 2.6200617  2.89090878 1.53870652]\n",
      " [2.63200224 1.31506322 1.9455097  1.61929055 0.69683211 0.97359076\n",
      "  1.74987922 1.04926537 2.89090878 1.53870652]\n",
      " [1.06120592 1.82652943 1.9455097  1.61929055 0.69683211 0.97359076\n",
      "  0.17908289 0.52153095 1.32011246 0.03208981]\n",
      " [1.06120592 0.25573311 0.37471337 1.5223021  0.69683211 2.54438709\n",
      "  0.17908289 0.52153095 2.89090878 3.10950284]\n",
      " [2.63200224 1.31506322 1.9455097  1.61929055 0.69683211 0.97359076\n",
      "  1.74987922 2.6200617  1.32011246 1.60288614]\n",
      " [2.63200224 2.88585955 0.37471337 3.09309843 0.69683211 2.54438709\n",
      "  0.17908289 2.09232728 1.32011246 0.03208981]\n",
      " [2.63200224 1.31506322 1.9455097  1.61929055 2.26762843 2.16800189\n",
      "  0.17908289 0.52153095 1.32011246 0.03208981]\n",
      " [2.63200224 1.31506322 1.9455097  1.61929055 2.26762843 2.16800189\n",
      "  0.17908289 2.09232728 2.89090878 3.10950284]\n",
      " [1.06120592 0.25573311 0.37471337 1.5223021  0.69683211 2.54438709\n",
      "  0.17908289 0.52153095 2.89090878 3.10950284]\n",
      " [1.06120592 0.25573311 0.37471337 1.5223021  2.26762843 0.59720556\n",
      "  1.74987922 2.6200617  2.89090878 1.53870652]\n",
      " [1.06120592 0.25573311 0.37471337 1.5223021  2.26762843 0.59720556\n",
      "  1.74987922 1.04926537 1.32011246 1.60288614]\n",
      " [1.06120592 0.25573311 0.37471337 1.5223021  2.26762843 0.59720556\n",
      "  1.74987922 1.04926537 1.32011246 1.60288614]\n",
      " [2.63200224 2.88585955 0.37471337 3.09309843 2.26762843 0.59720556\n",
      "  1.74987922 1.04926537 1.32011246 1.60288614]\n",
      " [1.06120592 1.82652943 1.9455097  0.04849422 0.69683211 0.97359076\n",
      "  1.74987922 2.6200617  1.32011246 1.60288614]\n",
      " [2.63200224 1.31506322 1.9455097  0.04849422 0.69683211 0.97359076\n",
      "  0.17908289 0.52153095 1.32011246 0.03208981]\n",
      " [1.06120592 1.82652943 1.9455097  0.04849422 0.69683211 0.97359076\n",
      "  1.74987922 2.6200617  1.32011246 1.60288614]\n",
      " [2.63200224 1.31506322 1.9455097  0.04849422 2.26762843 2.16800189\n",
      "  1.74987922 1.04926537 2.89090878 1.53870652]\n",
      " [2.63200224 2.88585955 0.37471337 1.5223021  2.26762843 0.59720556\n",
      "  0.17908289 0.52153095 2.89090878 3.10950284]\n",
      " [1.06120592 0.25573311 0.37471337 3.09309843 0.69683211 2.54438709\n",
      "  1.74987922 1.04926537 1.32011246 1.60288614]\n",
      " [1.06120592 1.82652943 1.9455097  0.04849422 2.26762843 2.16800189\n",
      "  0.17908289 0.52153095 1.32011246 0.03208981]\n",
      " [1.06120592 0.25573311 0.37471337 1.5223021  2.26762843 0.59720556\n",
      "  1.74987922 1.04926537 1.32011246 1.60288614]\n",
      " [1.06120592 0.25573311 0.37471337 3.09309843 2.26762843 0.59720556\n",
      "  0.17908289 0.52153095 2.89090878 3.10950284]\n",
      " [1.06120592 0.25573311 0.37471337 3.09309843 0.69683211 2.54438709\n",
      "  1.74987922 2.6200617  2.89090878 1.53870652]\n",
      " [1.06120592 0.25573311 0.37471337 1.5223021  2.26762843 0.59720556\n",
      "  1.74987922 2.6200617  2.89090878 1.53870652]\n",
      " [1.06120592 1.82652943 1.9455097  0.04849422 2.26762843 2.16800189\n",
      "  0.17908289 2.09232728 2.89090878 3.10950284]\n",
      " [1.06120592 0.25573311 0.37471337 1.5223021  2.26762843 0.59720556\n",
      "  1.74987922 2.6200617  2.89090878 1.53870652]\n",
      " [1.06120592 1.82652943 1.9455097  1.61929055 0.69683211 0.97359076\n",
      "  0.17908289 0.52153095 1.32011246 0.03208981]\n",
      " [2.63200224 2.88585955 0.37471337 3.09309843 2.26762843 0.59720556\n",
      "  1.74987922 1.04926537 1.32011246 1.60288614]\n",
      " [1.06120592 0.25573311 0.37471337 3.09309843 0.69683211 2.54438709\n",
      "  1.74987922 1.04926537 1.32011246 1.60288614]\n",
      " [1.06120592 1.82652943 1.9455097  1.61929055 2.26762843 2.16800189\n",
      "  1.74987922 2.6200617  1.32011246 1.60288614]\n",
      " [2.63200224 2.88585955 0.37471337 1.5223021  2.26762843 0.59720556\n",
      "  0.17908289 0.52153095 2.89090878 3.10950284]\n",
      " [2.63200224 1.31506322 1.9455097  1.61929055 2.26762843 2.16800189\n",
      "  0.17908289 2.09232728 2.89090878 3.10950284]\n",
      " [2.62487193 0.51476233 0.0072464  1.27386943 1.37014939 0.28075994\n",
      "  0.47401582 1.92452215 0.83859487 2.92716045]\n",
      " [1.0540756  1.05603399 1.57804272 0.29692689 2.94094572 1.29003638\n",
      "  2.04481215 2.78786683 0.83859487 1.35636413]\n",
      " [1.0540756  2.62683032 0.0072464  2.84466576 2.94094572 2.86083271\n",
      "  2.04481215 1.21707051 0.83859487 1.35636413]\n",
      " [2.62487193 0.51476233 0.0072464  1.27386943 2.94094572 2.86083271\n",
      "  2.04481215 1.21707051 0.83859487 1.35636413]\n",
      " [2.62487193 2.08555866 1.57804272 0.29692689 1.37014939 1.85155627\n",
      "  2.04481215 1.21707051 2.4093912  1.78522853]\n",
      " [2.62487193 0.51476233 0.0072464  1.27386943 1.37014939 0.28075994\n",
      "  0.47401582 0.35372582 2.4093912  0.2144322 ]\n",
      " [1.0540756  1.05603399 1.57804272 0.29692689 1.37014939 1.85155627\n",
      "  0.47401582 0.35372582 0.83859487 2.92716045]\n",
      " [1.0540756  1.05603399 1.57804272 0.29692689 1.37014939 1.85155627\n",
      "  0.47401582 1.92452215 2.4093912  0.2144322 ]\n",
      " [1.0540756  2.62683032 0.0072464  2.84466576 2.94094572 2.86083271\n",
      "  2.04481215 2.78786683 2.4093912  1.78522853]\n",
      " [2.62487193 0.51476233 0.0072464  1.27386943 1.37014939 0.28075994\n",
      "  0.47401582 1.92452215 0.83859487 2.92716045]\n",
      " [2.62487193 2.08555866 1.57804272 1.86772322 2.94094572 1.29003638\n",
      "  2.04481215 1.21707051 2.4093912  1.78522853]\n",
      " [2.62487193 0.51476233 0.0072464  1.27386943 2.94094572 2.86083271\n",
      "  2.04481215 2.78786683 2.4093912  1.78522853]\n",
      " [2.62487193 0.51476233 0.0072464  1.27386943 1.37014939 0.28075994\n",
      "  0.47401582 1.92452215 0.83859487 2.92716045]\n",
      " [2.62487193 0.51476233 0.0072464  1.27386943 1.37014939 0.28075994\n",
      "  0.47401582 1.92452215 0.83859487 2.92716045]\n",
      " [2.62487193 2.08555866 1.57804272 1.86772322 2.94094572 1.29003638\n",
      "  2.04481215 2.78786683 0.83859487 1.35636413]\n",
      " [2.62487193 2.08555866 1.57804272 1.86772322 2.94094572 1.29003638\n",
      "  2.04481215 2.78786683 0.83859487 1.35636413]\n",
      " [1.0540756  1.05603399 1.57804272 1.86772322 2.94094572 1.29003638\n",
      "  0.47401582 0.35372582 0.83859487 2.92716045]\n",
      " [2.62487193 2.08555866 1.57804272 1.86772322 1.37014939 1.85155627\n",
      "  0.47401582 1.92452215 2.4093912  0.2144322 ]\n",
      " [2.62487193 0.51476233 0.0072464  1.27386943 2.94094572 2.86083271\n",
      "  2.04481215 1.21707051 0.83859487 1.35636413]\n",
      " [2.62487193 0.51476233 0.0072464  2.84466576 2.94094572 2.86083271\n",
      "  0.47401582 0.35372582 2.4093912  0.2144322 ]\n",
      " [1.0540756  1.05603399 1.57804272 0.29692689 2.94094572 1.29003638\n",
      "  2.04481215 2.78786683 0.83859487 1.35636413]\n",
      " [1.0540756  1.05603399 1.57804272 1.86772322 1.37014939 1.85155627\n",
      "  2.04481215 2.78786683 0.83859487 1.35636413]\n",
      " [1.0540756  2.62683032 0.0072464  2.84466576 1.37014939 0.28075994\n",
      "  0.47401582 0.35372582 2.4093912  0.2144322 ]\n",
      " [2.62487193 2.08555866 1.57804272 0.29692689 1.37014939 1.85155627\n",
      "  2.04481215 1.21707051 2.4093912  1.78522853]\n",
      " [2.62487193 2.08555866 1.57804272 0.29692689 2.94094572 1.29003638\n",
      "  0.47401582 1.92452215 2.4093912  0.2144322 ]\n",
      " [2.62487193 0.51476233 0.0072464  1.27386943 1.37014939 0.28075994\n",
      "  0.47401582 1.92452215 0.83859487 2.92716045]\n",
      " [1.0540756  2.62683032 0.0072464  1.27386943 2.94094572 2.86083271\n",
      "  0.47401582 1.92452215 0.83859487 2.92716045]\n",
      " [2.62487193 0.51476233 0.0072464  2.84466576 1.37014939 0.28075994\n",
      "  2.04481215 2.78786683 2.4093912  1.78522853]\n",
      " [2.62487193 2.08555866 1.57804272 0.29692689 1.37014939 1.85155627\n",
      "  2.04481215 2.78786683 0.83859487 1.35636413]\n",
      " [2.62487193 2.08555866 1.57804272 0.29692689 1.37014939 1.85155627\n",
      "  2.04481215 1.21707051 2.4093912  1.78522853]\n",
      " [2.62487193 0.51476233 0.0072464  2.84466576 2.94094572 2.86083271\n",
      "  0.47401582 1.92452215 0.83859487 2.92716045]\n",
      " [2.62487193 0.51476233 0.0072464  1.27386943 1.37014939 0.28075994\n",
      "  0.47401582 1.92452215 0.83859487 2.92716045]\n",
      " [2.62487193 2.08555866 1.57804272 1.86772322 1.37014939 1.85155627\n",
      "  0.47401582 0.35372582 0.83859487 2.92716045]\n",
      " [1.0540756  2.62683032 0.0072464  1.27386943 1.37014939 0.28075994\n",
      "  2.04481215 1.21707051 0.83859487 1.35636413]\n",
      " [1.0540756  2.62683032 0.0072464  2.84466576 1.37014939 0.28075994\n",
      "  0.47401582 0.35372582 2.4093912  0.2144322 ]\n",
      " [2.62487193 2.08555866 1.57804272 1.86772322 2.94094572 1.29003638\n",
      "  2.04481215 2.78786683 0.83859487 1.35636413]\n",
      " [1.0540756  1.05603399 1.57804272 0.29692689 2.94094572 1.29003638\n",
      "  2.04481215 2.78786683 0.83859487 1.35636413]\n",
      " [2.62487193 0.51476233 0.0072464  1.27386943 2.94094572 2.86083271\n",
      "  2.04481215 1.21707051 0.83859487 1.35636413]\n",
      " [1.0540756  1.05603399 1.57804272 0.29692689 2.94094572 1.29003638\n",
      "  2.04481215 1.21707051 2.4093912  1.78522853]\n",
      " [1.0540756  2.62683032 0.0072464  1.27386943 1.37014939 0.28075994\n",
      "  2.04481215 1.21707051 0.83859487 1.35636413]\n",
      " [2.62487193 2.08555866 1.57804272 1.86772322 2.94094572 1.29003638\n",
      "  2.04481215 2.78786683 0.83859487 1.35636413]\n",
      " [2.62487193 2.08555866 1.57804272 0.29692689 2.94094572 1.29003638\n",
      "  0.47401582 0.35372582 0.83859487 2.92716045]\n",
      " [2.62487193 2.08555866 1.57804272 0.29692689 2.94094572 1.29003638\n",
      "  0.47401582 1.92452215 2.4093912  0.2144322 ]\n",
      " [1.0540756  2.62683032 0.0072464  1.27386943 1.37014939 0.28075994\n",
      "  2.04481215 2.78786683 2.4093912  1.78522853]\n",
      " [2.62487193 0.51476233 0.0072464  1.27386943 1.37014939 0.28075994\n",
      "  0.47401582 1.92452215 0.83859487 2.92716045]\n",
      " [2.62487193 0.51476233 0.0072464  1.27386943 1.37014939 0.28075994\n",
      "  0.47401582 1.92452215 0.83859487 2.92716045]\n",
      " [1.0540756  1.05603399 1.57804272 0.29692689 1.37014939 1.85155627\n",
      "  0.47401582 0.35372582 0.83859487 2.92716045]\n",
      " [2.62487193 2.08555866 1.57804272 0.29692689 2.94094572 1.29003638\n",
      "  0.47401582 0.35372582 0.83859487 2.92716045]\n",
      " [1.0540756  1.05603399 1.57804272 1.86772322 2.94094572 1.29003638\n",
      "  0.47401582 1.92452215 2.4093912  0.2144322 ]\n",
      " [1.0540756  1.05603399 1.57804272 1.86772322 1.37014939 1.85155627\n",
      "  2.04481215 1.21707051 2.4093912  1.78522853]]\n",
      "[[ 1.  1.  1.  1.  1.  1.  1.  1.  1.  1.  1.  1.  1.  1.  1.  1.  1.  1.\n",
      "   1.  1.  1.  1.  1.  1.  1.  1.  1.  1.  1.  1.  1.  1.  1.  1.  1.  1.\n",
      "   1.  1.  1.  1.  1.  1.  1.  1.  1.  1.  1.  1.  1.  1. -1. -1. -1. -1.\n",
      "  -1. -1. -1. -1. -1. -1. -1. -1. -1. -1. -1. -1. -1. -1. -1. -1. -1. -1.\n",
      "  -1. -1. -1. -1. -1. -1. -1. -1. -1. -1. -1. -1. -1. -1. -1. -1. -1. -1.\n",
      "  -1. -1. -1. -1. -1. -1. -1. -1. -1. -1.]]\n"
     ]
    }
   ],
   "source": [
    "n_data_train = 50\n",
    "epsilon = 0.0 # エラーの分散\n",
    "e = np.random.normal(0, np.sqrt(epsilon), (2*n_data_train, 2*n_qubits))\n",
    "\n",
    "# c_{+-}を決める\n",
    "c_plus = np.pi/2 * np.random.rand(2*n_qubits) - np.pi/4 # - \\pi/4 ～ \\pi/4 のランダムな数\n",
    "c_minus = np.pi/2 * np.random.rand(2*n_qubits) - np.pi/4\n",
    "\n",
    "x_plus = x_generator(c_plus).reshape((1,-1))\n",
    "x_minus = x_generator(c_minus).reshape((1,-1))\n",
    "for i in range(n_data_train-1):\n",
    "    xx = x_generator(c_plus).reshape((1,-1))\n",
    "    x_plus = np.concatenate([x_plus, xx])\n",
    "    xx = x_generator(c_minus).reshape((1,-1))\n",
    "    x_minus = np.concatenate([x_minus, xx])\n",
    "x_train = np.concatenate([x_plus, x_minus]) + e\n",
    "\n",
    "y_plus = np.ones(n_data_train)\n",
    "y_minus = -np.ones(n_data_train)\n",
    "y_train = np.concatenate([y_plus, y_minus]).reshape(1,-1)\n",
    "print(x_train)\n",
    "print(y_train)"
   ]
  },
  {
   "cell_type": "code",
   "execution_count": 4,
   "metadata": {},
   "outputs": [],
   "source": [
    "y_train = y_train.T"
   ]
  },
  {
   "cell_type": "code",
   "execution_count": 5,
   "metadata": {},
   "outputs": [
    {
     "data": {
      "text/plain": [
       "(100, 10)"
      ]
     },
     "execution_count": 5,
     "metadata": {},
     "output_type": "execute_result"
    }
   ],
   "source": [
    "x_train.shape"
   ]
  },
  {
   "cell_type": "markdown",
   "metadata": {},
   "source": [
    "### Create helper function to get fiducial states, kernel matrix"
   ]
  },
  {
   "cell_type": "code",
   "execution_count": 6,
   "metadata": {},
   "outputs": [],
   "source": [
    "def create_featured_gate(n_qubits,Lambda,edges,x):\n",
    "    circuit = ParametricQuantumCircuit(n_qubits)\n",
    "    for i in range(n_qubits):\n",
    "        circuit.add_parametric_RY_gate(i,-Lambda[i])\n",
    "    for control, target  in edges:\n",
    "        circuit.add_CZ_gate(control,target)\n",
    "\n",
    "    for i in range(n_qubits):\n",
    "        circuit.add_RZ_gate(i,x[2*i])\n",
    "        circuit.add_RX_gate(i,x[2*i+1])\n",
    "\n",
    "    return circuit\n"
   ]
  },
  {
   "cell_type": "code",
   "execution_count": 7,
   "metadata": {},
   "outputs": [],
   "source": [
    "edges= [[0,1],[1,2],[1,3],[3,4]]"
   ]
  },
  {
   "cell_type": "code",
   "execution_count": 8,
   "metadata": {},
   "outputs": [],
   "source": [
    "def get_kernel_value(x1,x2,Lambda):\n",
    "\n",
    "    state1 = QuantumState(n_qubits)\n",
    "    state2 = QuantumState(n_qubits)\n",
    "    state1.set_zero_state()\n",
    "    state1.set_zero_state()\n",
    "\n",
    "    circuit1 = create_featured_gate(n_qubits,Lambda,edges,x1)\n",
    "    circuit2 = create_featured_gate(n_qubits,Lambda,edges,x2)\n",
    "    \n",
    "    circuit1.update_quantum_state(state1)\n",
    "\n",
    "    circuit2.update_quantum_state(state2)\n",
    "\n",
    "    return abs(inner_product(state1,state2))**2\n",
    "    "
   ]
  },
  {
   "cell_type": "code",
   "execution_count": 9,
   "metadata": {},
   "outputs": [],
   "source": [
    "def construct_kernel_matrix(Lambda,x):\n",
    "\n",
    "    kernel_matrix = np.identity(x.shape[0])\n",
    "    for i in range(x.shape[0]):\n",
    "        for j in range(i):\n",
    "            kernel_matrix[i,j] = get_kernel_value(x[i],x[j],Lambda)\n",
    "            kernel_matrix[j,i] = kernel_matrix[i,j].conjugate()\n",
    "    \n",
    "    return kernel_matrix"
   ]
  },
  {
   "cell_type": "markdown",
   "metadata": {},
   "source": [
    "### Define helper function for cvxopt"
   ]
  },
  {
   "cell_type": "code",
   "execution_count": 10,
   "metadata": {},
   "outputs": [],
   "source": [
    "from cvxopt import matrix, solvers"
   ]
  },
  {
   "cell_type": "code",
   "execution_count": 11,
   "metadata": {},
   "outputs": [],
   "source": [
    "def cvxopt_solver(Kernel,y,C):\n",
    "    \n",
    "    P = matrix(np.outer(y,y) * Kernel )\n",
    "    q = matrix(- np.ones(y.shape[0]))\n",
    "    n = Kernel.shape[0] \n",
    "\n",
    "    G = matrix(np.vstack(( - np.eye(n), np.eye(n)  ))) \n",
    "    h = matrix(np.vstack((np.zeros((n, 1)), np.full((n, 1),C) )))\n",
    "    A = matrix(y, (1,n))\n",
    "    b = matrix(np.zeros(1), (1, 1))\n",
    "\n",
    "    solvers.options[\"maxiters\"] = 10000\n",
    "    solvers.options[\"show_progress\"] = False\n",
    "\n",
    "    sol = solvers.qp(P,q,G,h,A,b)\n",
    "    return sol "
   ]
  },
  {
   "cell_type": "markdown",
   "metadata": {},
   "source": [
    "## Kernel alignment programme"
   ]
  },
  {
   "cell_type": "markdown",
   "metadata": {},
   "source": []
  },
  {
   "cell_type": "code",
   "execution_count": 12,
   "metadata": {},
   "outputs": [],
   "source": [
    "C = 1 \n",
    "P = 20 # the number of steps for SPSA\n",
    "### SPSA parameters. \n",
    "c = 0.1\n",
    "gamma = 0.101\n",
    "a = 0.05\n",
    "A = 1\n",
    "sigma = 0.602\n",
    "\n",
    "lam0 = .1\n",
    "lam_history = []\n",
    "F_history = []\n",
    "K_history = []\n",
    "\n",
    "\n",
    "np.random.seed(1111)\n",
    "\n",
    "lam = np.full(n_qubits, lam0)\n",
    "for i in range(P):\n",
    "\n",
    "    c_i =  c / (i + 1)** gamma\n",
    "    a_i = a / ( i + 1 + A)** sigma\n",
    "\n",
    "    Delta = 2*np.random.randint(0, 2, 1) - 1 \n",
    "    lam_plus = lam + c_i * Delta\n",
    "    lam_minus = lam - c_i * Delta\n",
    "\n",
    "    K = construct_kernel_matrix(lam, x_train)\n",
    "    K_plus = construct_kernel_matrix(lam_plus, x_train)\n",
    "    K_minus = construct_kernel_matrix(lam_minus, x_train)\n",
    "\n",
    "    sol = cvxopt_solver(K,y_train,C)\n",
    "    sol_plus = cvxopt_solver(K_plus,y_train,C)\n",
    "    sol_minus = cvxopt_solver(K_minus,y_train,C)\n",
    "    alpha_plus = np.array(sol_plus['x']).reshape(-1)\n",
    "    alpha_minus = np.array(sol_minus['x']).reshape(-1)\n",
    "\n",
    "    F_plus = - sol_plus['primal objective']\n",
    "    F_minus = - sol_minus['primal objective']\n",
    "    F = - sol['primal objective']\n",
    "    lam = lam - (F_plus - F_minus)* Delta* a_i / (2 *c_i)\n",
    "    lam_history.append(lam[0])\n",
    "    F_history.append(F)\n",
    "    K_history.append(K)\n"
   ]
  },
  {
   "cell_type": "code",
   "execution_count": 13,
   "metadata": {},
   "outputs": [
    {
     "data": {
      "text/plain": [
       "[0.7027136781213966,\n",
       " 1.1802642673849422,\n",
       " 1.4099658781296063,\n",
       " 1.463634737439947,\n",
       " 1.4865354792095065,\n",
       " 1.498218123155561,\n",
       " 1.504780711939323,\n",
       " 1.5087118612694839,\n",
       " 1.5111805666591778,\n",
       " 1.5127886301294828,\n",
       " 1.5138671985786876,\n",
       " 1.5146081251791406,\n",
       " 1.5151272714115818,\n",
       " 1.5154970525190132,\n",
       " 1.5157640626154714,\n",
       " 1.5159590385832789,\n",
       " 1.5161027010900012,\n",
       " 1.5162092871499768,\n",
       " 1.5162887453657934,\n",
       " 1.516348133114671]"
      ]
     },
     "execution_count": 13,
     "metadata": {},
     "output_type": "execute_result"
    }
   ],
   "source": [
    "lam_history"
   ]
  },
  {
   "cell_type": "code",
   "execution_count": 14,
   "metadata": {},
   "outputs": [
    {
     "data": {
      "image/png": "[encoded data removed]",
      "text/plain": [
       "<Figure size 432x288 with 1 Axes>"
      ]
     },
     "metadata": {
      "needs_background": "light"
     },
     "output_type": "display_data"
    }
   ],
   "source": [
    "\n",
    "x = np.arange(0,P,1)\n",
    "y = np.array(lam_history)\n",
    "plt.plot(x,y)\n",
    "plt.axhline(np.pi/2,linestyle='--')\n",
    "plt.show()"
   ]
  },
  {
   "cell_type": "markdown",
   "metadata": {},
   "source": [
    "## Under construction..."
   ]
  },
  {
   "cell_type": "code",
   "execution_count": 30,
   "metadata": {},
   "outputs": [],
   "source": [
    "class KernelMatrix:\n",
    "\n",
    "    def __init__(self,n_qubit,Lambda,edges) -> None:\n",
    "        self.n_qubit = n_qubit\n",
    "        self.Lambda = Lambda\n",
    "        self.edges = edges\n",
    "        self.state1 = QuantumState(n_qubit)\n",
    "        self.state2 = QuantumState(n_qubit)\n",
    "\n",
    "    def make_fiducial_state(self,Lambda):\n",
    "        circuit = ParametricQuantumCircuit(self.n_qubit)\n",
    "        for i in range(self.n_qubit):\n",
    "            circuit.add_parametric_RY_gate(Lambda)\n",
    "        for control, target in self.edges:\n",
    "            circuit.add_CZ_gate(control,target)\n",
    "        return circuit\n",
    "\n",
    "    def create_featured_gate(self,theta):\n",
    "        circuit = ParametricQuantumCircuit(self.n_qubit)\n",
    "        for i in range(self.n_qubit):\n",
    "            circuit.add_parametric_RY_gate(i,self.Lambda)\n",
    "        for control, target in self.edges:\n",
    "            circuit.add_CZ_gate(control,target)\n",
    "\n",
    "        for i in range(self.n_qubit):\n",
    "            circuit.add_RZ_gate(i,theta[i,0])\n",
    "            circuit.add_RX_gate(i,theta[i,1])\n",
    "\n",
    "        return circuit\n",
    "        \n",
    "    def featured_gate(self,theta):\n",
    "        circuit = QuantumCircuit(self.n_qubit)\n",
    "        for i in range(self.n_qubit):\n",
    "            circuit.add_RZ_gate(i,theta[i,0])\n",
    "            circuit.add_RX_gate(i,theta[i,1])\n",
    "\n",
    "        return circuit\n",
    "\n",
    "    def get_kernel_value(self,x1,x2):\n",
    "        self.state1.set_zero_state()\n",
    "        self.state1.set_zero_state()\n",
    "        fiducial_gate = self.make_fiducial_state()\n",
    "\n",
    "\n",
    "        featured_gate1 = self.featured_gate(x1)\n",
    "        featured_gate2 = self.featured_gate(x2)\n",
    "        \n",
    "        circuit1 = merge(fiducial_gate,featured_gate1)\n",
    "        circuit1.update_quantum_state(state1)\n",
    "        circuit2 = merge(fiducial_gate,featured_gate2)\n",
    "        circuit2.update_quantum_state(state2)\n",
    "\n",
    "        return inner_product(state1,state2)\n",
    "    \n",
    "    def construct_kernel_matrix(self,x_data):\n",
    "        \"\"\"\n",
    "        Args:\n",
    "            x_data : MxNxD array of data where N is the number of samples,\n",
    "             N the number of qubits, D the feature dimension\n",
    "        \"\"\"\n",
    "        kernel_matrix = np.identity(x_data.shape[0])\n",
    "        for i in range(x_data.shape[0]):\n",
    "            for j in range(i):\n",
    "                kernel_matrix[i,j] = self.get_kernel_value(x_data[i],x_data[j])\n",
    "                kernel_matrix[j,i] = kernel_matrix[i,j].conjugate()\n",
    "        \n",
    "        return kernel_matrix\n",
    "\n",
    "    def spsa(self,x_data,y_label,n_step,initial_Lambda = 0.01):\n",
    "        Lambda = initial_Lambda\n",
    "        for i in n_step:\n",
    "            Delta = 2 * np.random.rand() - 1\n",
    "\n",
    "            c_i = c / ( i + 1)**gamma\n",
    "            Lambda__pm_i = Lambda + np.array([Delta*c_i, - Delta*c_i])\n",
    "            self.construct_kernel_matrix()\n",
    "\n"
   ]
  },
  {
   "cell_type": "code",
   "execution_count": 43,
   "metadata": {},
   "outputs": [
    {
     "data": {
      "text/plain": [
       "array([1, 2])"
      ]
     },
     "execution_count": 43,
     "metadata": {},
     "output_type": "execute_result"
    }
   ],
   "source": [
    "np.array([0,1 ]) + 1"
   ]
  },
  {
   "cell_type": "code",
   "execution_count": 33,
   "metadata": {},
   "outputs": [
    {
     "data": {
      "text/plain": [
       " *** Quantum State ***\n",
       " * Qubit Count : 2\n",
       " * Dimension   : 4\n",
       " * State vector : \n",
       "(1,0)\n",
       "(0,0)\n",
       "(0,0)\n",
       "(0,0)"
      ]
     },
     "execution_count": 33,
     "metadata": {},
     "output_type": "execute_result"
    }
   ],
   "source": [
    "KernelMatrix(2,np.pi,[[0,1]]).state1"
   ]
  },
  {
   "cell_type": "code",
   "execution_count": null,
   "metadata": {},
   "outputs": [],
   "source": [
    "state1 = QuantumState(n)\n",
    "state2 = QuantumState(n)\n",
    "def get_kernel_value(x1,x2):\n",
    "    state1.set_zero_state()\n",
    "    create_featured_gate()"
   ]
  }
 ],
 "metadata": {
  "interpreter": {
   "hash": "4d6cf19fbe203395831accd42fb3bdc3b710eb7fbe04f788a536db11ba6ce36d"
  },
  "kernelspec": {
   "display_name": "Python 3.7.6 64-bit ('base': conda)",
   "language": "python",
   "name": "python3"
  },
  "language_info": {
   "codemirror_mode": {
    "name": "ipython",
    "version": 3
   },
   "file_extension": ".py",
   "mimetype": "text/x-python",
   "name": "python",
   "nbconvert_exporter": "python",
   "pygments_lexer": "ipython3",
   "version": "3.7.9"
  },
  "orig_nbformat": 4
 },
 "nbformat": 4,
 "nbformat_minor": 2
}
