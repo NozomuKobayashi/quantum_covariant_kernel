{
 "cells": [
  {
   "cell_type": "code",
   "execution_count": 1,
   "metadata": {},
   "outputs": [
    {
     "name": "stdout",
     "output_type": "stream",
     "text": [
      "Collecting qulacs\n",
      "  Downloading Qulacs-0.3.0-cp37-cp37m-manylinux_2_12_x86_64.manylinux2010_x86_64.whl (451 kB)\n",
      "\u001b[K     |████████████████████████████████| 451 kB 3.2 MB/s \n",
      "\u001b[?25hInstalling collected packages: qulacs\n",
      "Successfully installed qulacs-0.3.0\n",
      "\u001b[33mWARNING: You are using pip version 21.0.1; however, version 21.3.1 is available.\n",
      "You should consider upgrading via the '/home/nozomu/.pyenv/versions/3.7.9/bin/python3.7 -m pip install --upgrade pip' command.\u001b[0m\n"
     ]
    }
   ],
   "source": [
    "!pip install qulacs"
   ]
  },
  {
   "cell_type": "code",
   "execution_count": 9,
   "metadata": {},
   "outputs": [],
   "source": [
    "from qulacs import QuantumState,QuantumCircuit\n",
    "from qulacs import ParametricQuantumCircuit\n",
    "from qulacs.gate import RY,CZ\n",
    "import numpy as np "
   ]
  },
  {
   "cell_type": "code",
   "execution_count": 26,
   "metadata": {},
   "outputs": [],
   "source": [
    "n = 2\n",
    "Lambda = np.pi / 4.\n",
    "circuit = ParametricQuantumCircuit(n)\n",
    "edges = [[0,1]]\n",
    "for i in range(n):\n",
    "    circuit.add_parametric_RY_gate(i,Lambda)\n",
    "for control, target  in edges:\n",
    "    circuit.add_CZ_gate(control,target)"
   ]
  },
  {
   "cell_type": "code",
   "execution_count": 27,
   "metadata": {},
   "outputs": [
    {
     "data": {
      "text/plain": [
       "*** Quantum Circuit Info ***\n",
       "# of qubit: 2\n",
       "# of step : 2\n",
       "# of gate : 3\n",
       "# of 1 qubit gate: 2\n",
       "# of 2 qubit gate: 1\n",
       "Clifford  : no\n",
       "Gaussian  : no\n",
       "\n",
       "*** Parameter Info ***\n",
       "# of parameter: 2"
      ]
     },
     "execution_count": 27,
     "metadata": {},
     "output_type": "execute_result"
    }
   ],
   "source": [
    "circuit"
   ]
  },
  {
   "cell_type": "code",
   "execution_count": 28,
   "metadata": {},
   "outputs": [],
   "source": [
    "def V_lambda(n,Lambda,edges):\n",
    "    V_lambda = ParametricQuantumCircuit(n)\n",
    "    for i in range(n):\n",
    "        V_lambda.add_parametric_RY_gate(i,Lambda)\n",
    "    for control, target  in edges:\n",
    "        V_lambda.add_CZ_gate(control,target)\n",
    "    \n",
    "    return V_lambda"
   ]
  },
  {
   "cell_type": "code",
   "execution_count": 22,
   "metadata": {},
   "outputs": [],
   "source": [
    "def D_theta(n,theta_x,theta_z):\n",
    "    \"\"\" \n",
    "    theta_x and theta_z are lists of length n \n",
    "    \"\"\"\n",
    "    D_theta = QuantumCircuit(n)\n",
    "    for i in range(n):\n",
    "        D_theta.add_RZ_gate(i,theta_z[i])\n",
    "        D_theta.add_RX_gate(i,theta_x[i])\n",
    "\n",
    "    return D_theta"
   ]
  },
  {
   "cell_type": "code",
   "execution_count": 30,
   "metadata": {},
   "outputs": [
    {
     "data": {
      "text/plain": [
       "*** Quantum Circuit Info ***\n",
       "# of qubit: 2\n",
       "# of step : 2\n",
       "# of gate : 3\n",
       "# of 1 qubit gate: 2\n",
       "# of 2 qubit gate: 1\n",
       "Clifford  : no\n",
       "Gaussian  : no\n",
       "\n",
       "*** Parameter Info ***\n",
       "# of parameter: 2"
      ]
     },
     "execution_count": 30,
     "metadata": {},
     "output_type": "execute_result"
    }
   ],
   "source": [
    "_V_lambda = V_lambda(n=2,Lambda=np.pi,edges=[[0,1]])\n",
    "_D_theta = D_theta(n=2,)"
   ]
  },
  {
   "cell_type": "code",
   "execution_count": 31,
   "metadata": {},
   "outputs": [],
   "source": [
    "def create_featured_gate(n,Lambda,edges,theta_x,theta_z):\n",
    "    circuit = ParametricQuantumCircuit(n)\n",
    "    for i in range(n):\n",
    "        circuit.add_parametric_RY_gate(i,Lambda)\n",
    "    for control, target  in edges:\n",
    "        circuit.add_CZ_gate(control,target)\n",
    "\n",
    "    for i in range(n):\n",
    "        circuit.add_RZ_gate(i,theta_z[i])\n",
    "        circuit.add_RX_gate(i,theta_x[i])\n",
    "\n",
    "    return circuit\n"
   ]
  },
  {
   "cell_type": "code",
   "execution_count": null,
   "metadata": {},
   "outputs": [],
   "source": []
  }
 ],
 "metadata": {
  "interpreter": {
   "hash": "4d6cf19fbe203395831accd42fb3bdc3b710eb7fbe04f788a536db11ba6ce36d"
  },
  "kernelspec": {
   "display_name": "Python 3.7.9 64-bit ('3.7.9': pyenv)",
   "name": "python3"
  },
  "language_info": {
   "codemirror_mode": {
    "name": "ipython",
    "version": 3
   },
   "file_extension": ".py",
   "mimetype": "text/x-python",
   "name": "python",
   "nbconvert_exporter": "python",
   "pygments_lexer": "ipython3",
   "version": "3.7.9"
  },
  "orig_nbformat": 4
 },
 "nbformat": 4,
 "nbformat_minor": 2
}
